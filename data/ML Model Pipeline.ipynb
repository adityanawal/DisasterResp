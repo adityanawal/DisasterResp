{
 "cells": [
  {
   "cell_type": "code",
   "execution_count": 9,
   "metadata": {},
   "outputs": [],
   "source": [
    "import pandas as pd\n",
    "import nltk\n",
    "from sqlalchemy import create_engine\n",
    "from sklearn.pipeline import Pipeline, FeatureUnion\n",
    "from sklearn.feature_extraction.text import TfidfVectorizer, CountVectorizer, TfidfTransformer\n",
    "from nltk.tokenize import word_tokenize\n",
    "from nltk.stem import WordNetLemmatizer\n",
    "import re\n",
    "from sklearn.multioutput import MultiOutputClassifier\n",
    "from sklearn.ensemble import RandomForestClassifier, AdaBoostClassifier\n",
    "from sklearn.model_selection import train_test_split\n",
    "from sklearn.metrics import classification_report\n",
    "from sklearn.model_selection import GridSearchCV\n",
    "import pickle"
   ]
  },
  {
   "cell_type": "code",
   "execution_count": 3,
   "metadata": {},
   "outputs": [
    {
     "name": "stderr",
     "output_type": "stream",
     "text": [
      "[nltk_data] Downloading package punkt to\n",
      "[nltk_data]     C:\\Users\\Aditya\\AppData\\Roaming\\nltk_data...\n",
      "[nltk_data]   Package punkt is already up-to-date!\n",
      "[nltk_data] Downloading package wordnet to\n",
      "[nltk_data]     C:\\Users\\Aditya\\AppData\\Roaming\\nltk_data...\n",
      "[nltk_data]   Package wordnet is already up-to-date!\n",
      "[nltk_data] Downloading package averaged_perceptron_tagger to\n",
      "[nltk_data]     C:\\Users\\Aditya\\AppData\\Roaming\\nltk_data...\n",
      "[nltk_data]   Package averaged_perceptron_tagger is already up-to-\n",
      "[nltk_data]       date!\n"
     ]
    },
    {
     "data": {
      "text/plain": [
       "True"
      ]
     },
     "execution_count": 3,
     "metadata": {},
     "output_type": "execute_result"
    }
   ],
   "source": [
    "nltk.download(['punkt', 'wordnet', 'averaged_perceptron_tagger'])"
   ]
  },
  {
   "cell_type": "code",
   "execution_count": 4,
   "metadata": {},
   "outputs": [
    {
     "data": {
      "text/plain": [
       "(26180, 39)"
      ]
     },
     "execution_count": 4,
     "metadata": {},
     "output_type": "execute_result"
    }
   ],
   "source": [
    "engine = create_engine('sqlite:///DisasterResponse.db')\n",
    "df = pd.read_sql_table('DisasterResponse',engine)\n",
    "df.shape"
   ]
  },
  {
   "cell_type": "code",
   "execution_count": 5,
   "metadata": {},
   "outputs": [],
   "source": [
    "X =  df['message']\n",
    "y = df.iloc[:,4:]"
   ]
  },
  {
   "cell_type": "code",
   "execution_count": 6,
   "metadata": {},
   "outputs": [],
   "source": [
    "def tokenize(text):\n",
    "    url_regex = 'http[s]?://(?:[a-zA-Z]|[0-9]|[$-_@.&+]|[!*\\(\\),]|(?:%[0-9a-fA-F][0-9a-fA-F]))+'\n",
    "    detected_urls = re.findall(url_regex, text)\n",
    "    for url in detected_urls:\n",
    "        text = text.replace(url, \"urlplaceholder\")\n",
    "\n",
    "    tokens = word_tokenize(text)\n",
    "    lemmatizer = WordNetLemmatizer()\n",
    "\n",
    "    clean_tokens = []\n",
    "    for tok in tokens:\n",
    "        clean_tok = lemmatizer.lemmatize(tok).lower().strip()\n",
    "        clean_tokens.append(clean_tok)\n",
    "\n",
    "    return clean_tokens\n"
   ]
  },
  {
   "cell_type": "code",
   "execution_count": 7,
   "metadata": {},
   "outputs": [],
   "source": [
    "X_train, X_test, y_train, y_test = train_test_split(X, y)"
   ]
  },
  {
   "cell_type": "markdown",
   "metadata": {},
   "source": [
    "## First Pipeline"
   ]
  },
  {
   "cell_type": "code",
   "execution_count": 7,
   "metadata": {},
   "outputs": [],
   "source": [
    "#pipeline_v1 = Pipeline([\n",
    "#    ('tf_vect', TfidfVectorizer(tokenizer = tokenize)),\n",
    "#    ('clf', MultiOutputClassifier(RandomForestClassifier()))\n",
    "#    ])"
   ]
  },
  {
   "cell_type": "code",
   "execution_count": null,
   "metadata": {},
   "outputs": [],
   "source": [
    "#y_pred = pipeline_v1.predict(X_test)\n",
    "#print(classification_report(y_test, y_pred, target_names=y.columns.values))"
   ]
  },
  {
   "cell_type": "code",
   "execution_count": null,
   "metadata": {},
   "outputs": [],
   "source": [
    "'''\n",
    "#Gridsearch\n",
    "    \n",
    "    parameters = {\n",
    "            #TFIDF Parameters \n",
    "            'tf_vect__max_df': (0.8, 1.0),\n",
    "    \n",
    "            #Random Forest Parameters\n",
    "            'clf__estimator__n_estimators': [50, 100]\n",
    "            'clf__estimator__min_samples_split': [2, 4]\n",
    "            }\n",
    "\n",
    "    cv = GridSearchCV(pipeline_v1, param_grid=parameters, n_jobs=-1)\n",
    "    cv.fit(X_train, y_train)\n",
    "\n",
    "\n",
    "y_pred = cv.predict(X_test)\n",
    "print(classification_report(y_test, y_pred, target_names=y.columns.values))\n",
    "'''"
   ]
  },
  {
   "cell_type": "markdown",
   "metadata": {},
   "source": [
    "Results superceded by second pipeline"
   ]
  },
  {
   "cell_type": "markdown",
   "metadata": {},
   "source": [
    "## Second Pipeline"
   ]
  },
  {
   "cell_type": "code",
   "execution_count": 15,
   "metadata": {},
   "outputs": [],
   "source": [
    " pipeline_v2 = Pipeline([\n",
    "        ('features', FeatureUnion([\n",
    "            ('text_pipeline', Pipeline([\n",
    "                ('cvt', CountVectorizer(tokenizer=tokenize)),\n",
    "                ('tfidf', TfidfTransformer())\n",
    "            ]))\n",
    "        ])),\n",
    "        \n",
    "        ('clf', MultiOutputClassifier(AdaBoostClassifier()))\n",
    "    ])"
   ]
  },
  {
   "cell_type": "code",
   "execution_count": 16,
   "metadata": {},
   "outputs": [
    {
     "data": {
      "text/plain": [
       "Pipeline(steps=[('features',\n",
       "                 FeatureUnion(transformer_list=[('text_pipeline',\n",
       "                                                 Pipeline(steps=[('cvt',\n",
       "                                                                  CountVectorizer(tokenizer=<function tokenize at 0x2EA322B0>)),\n",
       "                                                                 ('tfidf',\n",
       "                                                                  TfidfTransformer())]))])),\n",
       "                ('clf', MultiOutputClassifier(estimator=AdaBoostClassifier()))])"
      ]
     },
     "execution_count": 16,
     "metadata": {},
     "output_type": "execute_result"
    }
   ],
   "source": [
    "pipeline_v2.fit(X_train, y_train)"
   ]
  },
  {
   "cell_type": "code",
   "execution_count": 17,
   "metadata": {},
   "outputs": [
    {
     "name": "stdout",
     "output_type": "stream",
     "text": [
      "                        precision    recall  f1-score   support\n",
      "\n",
      "               related       0.84      0.93      0.88      5042\n",
      "               request       0.79      0.58      0.67      1135\n",
      "                 offer       0.20      0.03      0.05        36\n",
      "           aid_related       0.78      0.59      0.67      2760\n",
      "          medical_help       0.65      0.25      0.36       569\n",
      "      medical_products       0.66      0.37      0.47       344\n",
      "     search_and_rescue       0.52      0.18      0.27       183\n",
      "              security       0.37      0.06      0.10       116\n",
      "              military       0.59      0.30      0.40       218\n",
      "                 water       0.78      0.60      0.68       463\n",
      "                  food       0.78      0.71      0.74       738\n",
      "               shelter       0.79      0.56      0.65       595\n",
      "              clothing       0.67      0.38      0.48        95\n",
      "                 money       0.53      0.26      0.35       150\n",
      "        missing_people       0.64      0.19      0.29        73\n",
      "              refugees       0.60      0.22      0.32       227\n",
      "                 death       0.77      0.45      0.56       300\n",
      "             other_aid       0.52      0.16      0.24       878\n",
      "infrastructure_related       0.45      0.08      0.14       442\n",
      "             transport       0.72      0.23      0.35       310\n",
      "             buildings       0.65      0.38      0.48       349\n",
      "           electricity       0.58      0.22      0.32       148\n",
      "                 tools       0.00      0.00      0.00        40\n",
      "             hospitals       0.32      0.12      0.18        72\n",
      "                 shops       0.00      0.00      0.00        37\n",
      "           aid_centers       0.22      0.08      0.12        74\n",
      "  other_infrastructure       0.28      0.07      0.11       298\n",
      "       weather_related       0.85      0.64      0.73      1874\n",
      "                floods       0.88      0.50      0.64       549\n",
      "                 storm       0.76      0.54      0.63       612\n",
      "                  fire       0.59      0.23      0.33        71\n",
      "            earthquake       0.85      0.77      0.81       627\n",
      "                  cold       0.71      0.32      0.44       152\n",
      "         other_weather       0.45      0.17      0.25       362\n",
      "         direct_report       0.72      0.51      0.60      1302\n",
      "\n",
      "             micro avg       0.78      0.58      0.66     21241\n",
      "             macro avg       0.59      0.33      0.41     21241\n",
      "          weighted avg       0.74      0.58      0.63     21241\n",
      "           samples avg       0.64      0.50      0.52     21241\n",
      "\n"
     ]
    },
    {
     "name": "stderr",
     "output_type": "stream",
     "text": [
      "c:\\users\\aditya\\appdata\\local\\programs\\python\\python38-32\\lib\\site-packages\\sklearn\\metrics\\_classification.py:1221: UndefinedMetricWarning: Precision and F-score are ill-defined and being set to 0.0 in samples with no predicted labels. Use `zero_division` parameter to control this behavior.\n",
      "  _warn_prf(average, modifier, msg_start, len(result))\n",
      "c:\\users\\aditya\\appdata\\local\\programs\\python\\python38-32\\lib\\site-packages\\sklearn\\metrics\\_classification.py:1221: UndefinedMetricWarning: Recall and F-score are ill-defined and being set to 0.0 in samples with no true labels. Use `zero_division` parameter to control this behavior.\n",
      "  _warn_prf(average, modifier, msg_start, len(result))\n"
     ]
    }
   ],
   "source": [
    "y_pred = pipeline_v2.predict(X_test)\n",
    "print(classification_report(y_test, y_pred, target_names=y.columns.values))"
   ]
  },
  {
   "cell_type": "code",
   "execution_count": 21,
   "metadata": {},
   "outputs": [],
   "source": [
    "parameters = {\n",
    "            #Text Pipeline - Countvectorizer Parameters \n",
    "            #'features__text_pipeline__cvt__min_df': [1, 5],\n",
    "            \n",
    "            #Text Pipeline - Tfidf Parameters\n",
    "            'features__text_pipeline__tfidf__use_idf': (True, False),\n",
    "            \n",
    "            #Adaboost Forest Parameters\n",
    "            #'clf__estimator__min_samples_split': [2, 4]}\n",
    "            'clf__estimator__n_estimators': [50, 100]\n",
    "            }"
   ]
  },
  {
   "cell_type": "code",
   "execution_count": 22,
   "metadata": {},
   "outputs": [
    {
     "name": "stdout",
     "output_type": "stream",
     "text": [
      "Fitting 5 folds for each of 4 candidates, totalling 20 fits\n"
     ]
    },
    {
     "name": "stderr",
     "output_type": "stream",
     "text": [
      "[Parallel(n_jobs=-1)]: Using backend LokyBackend with 16 concurrent workers.\n",
      "[Parallel(n_jobs=-1)]: Done   4 out of  20 | elapsed:  2.7min remaining: 10.7min\n",
      "[Parallel(n_jobs=-1)]: Done   9 out of  20 | elapsed:  3.2min remaining:  3.9min\n",
      "[Parallel(n_jobs=-1)]: Done  14 out of  20 | elapsed:  5.6min remaining:  2.4min\n",
      "[Parallel(n_jobs=-1)]: Done  20 out of  20 | elapsed:  6.5min finished\n"
     ]
    },
    {
     "data": {
      "text/plain": [
       "GridSearchCV(estimator=Pipeline(steps=[('features',\n",
       "                                        FeatureUnion(transformer_list=[('text_pipeline',\n",
       "                                                                        Pipeline(steps=[('cvt',\n",
       "                                                                                         CountVectorizer(tokenizer=<function tokenize at 0x2EA322B0>)),\n",
       "                                                                                        ('tfidf',\n",
       "                                                                                         TfidfTransformer())]))])),\n",
       "                                       ('clf',\n",
       "                                        MultiOutputClassifier(estimator=AdaBoostClassifier()))]),\n",
       "             n_jobs=-1,\n",
       "             param_grid={'clf__estimator__n_estimators': [50, 100],\n",
       "                         'features__text_pipeline__tfidf__use_idf': (True,\n",
       "                                                                     False)},\n",
       "             verbose=5)"
      ]
     },
     "execution_count": 22,
     "metadata": {},
     "output_type": "execute_result"
    }
   ],
   "source": [
    "cv = GridSearchCV(pipeline_v2, param_grid=parameters, n_jobs=-1, verbose =5)\n",
    "cv.fit(X_train, y_train)"
   ]
  },
  {
   "cell_type": "code",
   "execution_count": 23,
   "metadata": {},
   "outputs": [
    {
     "name": "stdout",
     "output_type": "stream",
     "text": [
      "                        precision    recall  f1-score   support\n",
      "\n",
      "               related       0.84      0.93      0.88      5042\n",
      "               request       0.79      0.58      0.67      1135\n",
      "                 offer       0.09      0.03      0.04        36\n",
      "           aid_related       0.77      0.62      0.69      2760\n",
      "          medical_help       0.62      0.24      0.35       569\n",
      "      medical_products       0.69      0.39      0.50       344\n",
      "     search_and_rescue       0.47      0.19      0.27       183\n",
      "              security       0.16      0.03      0.04       116\n",
      "              military       0.67      0.34      0.45       218\n",
      "                 water       0.73      0.60      0.66       463\n",
      "                  food       0.78      0.70      0.74       738\n",
      "               shelter       0.78      0.54      0.64       595\n",
      "              clothing       0.64      0.43      0.52        95\n",
      "                 money       0.49      0.26      0.34       150\n",
      "        missing_people       0.54      0.18      0.27        73\n",
      "              refugees       0.55      0.21      0.30       227\n",
      "                 death       0.69      0.41      0.52       300\n",
      "             other_aid       0.50      0.15      0.23       878\n",
      "infrastructure_related       0.41      0.11      0.17       442\n",
      "             transport       0.67      0.22      0.33       310\n",
      "             buildings       0.67      0.39      0.49       349\n",
      "           electricity       0.53      0.26      0.35       148\n",
      "                 tools       0.11      0.03      0.04        40\n",
      "             hospitals       0.26      0.11      0.16        72\n",
      "                 shops       0.00      0.00      0.00        37\n",
      "           aid_centers       0.16      0.07      0.10        74\n",
      "  other_infrastructure       0.31      0.09      0.14       298\n",
      "       weather_related       0.85      0.68      0.76      1874\n",
      "                floods       0.85      0.50      0.63       549\n",
      "                 storm       0.77      0.55      0.64       612\n",
      "                  fire       0.66      0.27      0.38        71\n",
      "            earthquake       0.85      0.78      0.81       627\n",
      "                  cold       0.67      0.30      0.42       152\n",
      "         other_weather       0.41      0.15      0.22       362\n",
      "         direct_report       0.73      0.52      0.61      1302\n",
      "\n",
      "             micro avg       0.78      0.59      0.67     21241\n",
      "             macro avg       0.56      0.34      0.41     21241\n",
      "          weighted avg       0.73      0.59      0.64     21241\n",
      "           samples avg       0.63      0.51      0.52     21241\n",
      "\n"
     ]
    },
    {
     "name": "stderr",
     "output_type": "stream",
     "text": [
      "c:\\users\\aditya\\appdata\\local\\programs\\python\\python38-32\\lib\\site-packages\\sklearn\\metrics\\_classification.py:1221: UndefinedMetricWarning: Precision and F-score are ill-defined and being set to 0.0 in samples with no predicted labels. Use `zero_division` parameter to control this behavior.\n",
      "  _warn_prf(average, modifier, msg_start, len(result))\n",
      "c:\\users\\aditya\\appdata\\local\\programs\\python\\python38-32\\lib\\site-packages\\sklearn\\metrics\\_classification.py:1221: UndefinedMetricWarning: Recall and F-score are ill-defined and being set to 0.0 in samples with no true labels. Use `zero_division` parameter to control this behavior.\n",
      "  _warn_prf(average, modifier, msg_start, len(result))\n"
     ]
    }
   ],
   "source": [
    "y_pred = cv.predict(X_test)\n",
    "print(classification_report(y_test, y_pred, target_names=y.columns.values))"
   ]
  },
  {
   "cell_type": "code",
   "execution_count": null,
   "metadata": {},
   "outputs": [],
   "source": []
  },
  {
   "cell_type": "code",
   "execution_count": null,
   "metadata": {},
   "outputs": [],
   "source": []
  },
  {
   "cell_type": "code",
   "execution_count": null,
   "metadata": {},
   "outputs": [],
   "source": []
  }
 ],
 "metadata": {
  "kernelspec": {
   "display_name": "Python 3",
   "language": "python",
   "name": "python3"
  },
  "language_info": {
   "codemirror_mode": {
    "name": "ipython",
    "version": 3
   },
   "file_extension": ".py",
   "mimetype": "text/x-python",
   "name": "python",
   "nbconvert_exporter": "python",
   "pygments_lexer": "ipython3",
   "version": "3.8.5"
  }
 },
 "nbformat": 4,
 "nbformat_minor": 4
}
